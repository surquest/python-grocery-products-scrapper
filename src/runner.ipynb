{
 "cells": [
  {
   "cell_type": "code",
   "execution_count": 1,
   "metadata": {},
   "outputs": [],
   "source": [
    "from surquest.utils.scrappers.tesco import Scraper, DataHandler\n",
    "# src.surquest.utils.scrappers.tesco.scrapper"
   ]
  },
  {
   "cell_type": "code",
   "execution_count": 2,
   "metadata": {},
   "outputs": [],
   "source": [
    "tesco_scrapper = Scraper(\n",
    "    api_key=\"TvOSZJHlEk0pjniDGQFAc9Q59WGAR4dA\"\n",
    ")"
   ]
  },
  {
   "cell_type": "code",
   "execution_count": 6,
   "metadata": {},
   "outputs": [],
   "source": [
    "taxonomy = tesco_scrapper.fetch_taxonomy()"
   ]
  },
  {
   "cell_type": "code",
   "execution_count": 8,
   "metadata": {},
   "outputs": [],
   "source": [
    "super_departments = DataHandler.extract_super_departments(taxonomy)"
   ]
  },
  {
   "cell_type": "code",
   "execution_count": 5,
   "metadata": {},
   "outputs": [
    {
     "name": "stderr",
     "output_type": "stream",
     "text": [
      "Bad pipe message: %s [b' 10.0; Win64; x64) AppleWebKit/537.36 (KHTML, like Gecko) Chrome/139.0.0.0 Sa']\n",
      "Bad pipe message: %s [b'ri/537.36\\r\\nAccept: text/html,application/xhtml+xml,application/xml;q=0.9,image/avif,image/webp,image/', b'ng,*/*;q=0.8,application/signed-exchange;v=b3;q=0.7\\r\\nAccept-Encoding: gzip, deflate, br, zstd\\r\\nA']\n",
      "Bad pipe message: %s [b'ept-Language: en-GB,en-US;q=0.9,en;q=0.8,de;q=0.7,ru;q=0.6\\r\\nConnection: keep-alive\\r\\nReferer: https', b'/studio.firebase.google.com/\\r\\nSec-Ch-Ua: \"Not;A=Brand\";v=', b'9\", \"Google Chrome\";v=\"139\", \"Chr', b'ium\";v=\"139\"\\r\\nSec-Ch-Ua-Arch: \"x86\"\\r\\nSec-Ch-Ua-Bitness: \"64\"\\r\\nSec-Ch-Ua-Form-Factors: \"Desktop\"\\r\\nSec-Ch-Ua-Ful', b'Version: \"139.0.7258.68\"\\r\\nSec-Ch-Ua-Full-Version-List: \"Not;A=Brand\";v=\"99.0.0.0\", \"Google Chrome\";v=\"139.0', b'258.68\", \"Chromium\";v=\"139.0.7258.68\"\\r\\nSec-Ch', b'a-Mobile: ?0\\r\\nSec-Ch-Ua-Model: \"\"\\r\\nSec-Ch-Ua', b'latform: \"Windows\"\\r\\nSec-Ch-Ua-Platform-Versi']\n",
      "Bad pipe message: %s [b': \"19.0.0\"\\r\\nSec-Ch-Ua-Wow64: ?0\\r\\nSec-Fetch-Dest: iframe\\r\\nSec-Fetch-Mode: navigate\\r\\nSec-Fetch-Site: cross-site\\r']\n",
      "Bad pipe message: %s [b'ec-Fetch-', b'orage-Access: active\\r\\nSec-Fetch-User: ?1\\r\\nSec-User-Ip: 37.188.173.51\\r\\nUpgrade-Inse']\n"
     ]
    },
    {
     "ename": "NameError",
     "evalue": "name 'products' is not defined",
     "output_type": "error",
     "traceback": [
      "\u001b[31m---------------------------------------------------------------------------\u001b[39m",
      "\u001b[31mNameError\u001b[39m                                 Traceback (most recent call last)",
      "\u001b[36mCell\u001b[39m\u001b[36m \u001b[39m\u001b[32mIn[5]\u001b[39m\u001b[32m, line 2\u001b[39m\n\u001b[32m      1\u001b[39m \u001b[38;5;28;01mimport\u001b[39;00m\u001b[38;5;250m \u001b[39m\u001b[34;01mjson\u001b[39;00m\n\u001b[32m----> \u001b[39m\u001b[32m2\u001b[39m \u001b[38;5;28mprint\u001b[39m(json.dumps(\u001b[43mproducts\u001b[49m, indent=\u001b[32m4\u001b[39m))\n",
      "\u001b[31mNameError\u001b[39m: name 'products' is not defined"
     ]
    }
   ],
   "source": [
    "import json\n",
    "print(json.dumps(products, indent=4))"
   ]
  }
 ],
 "metadata": {
  "kernelspec": {
   "display_name": ".venv",
   "language": "python",
   "name": "python3"
  },
  "language_info": {
   "codemirror_mode": {
    "name": "ipython",
    "version": 3
   },
   "file_extension": ".py",
   "mimetype": "text/x-python",
   "name": "python",
   "nbconvert_exporter": "python",
   "pygments_lexer": "ipython3",
   "version": "3.12.7"
  }
 },
 "nbformat": 4,
 "nbformat_minor": 2
}
