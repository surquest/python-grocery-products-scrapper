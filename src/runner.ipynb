{
 "cells": [
  {
   "cell_type": "code",
   "execution_count": null,
   "metadata": {},
   "outputs": [],
   "source": [
    "from surquest.utils.scrappers.tesco import Scraper, DataHandler, FacetCZ, FacetUK, FacetSK, FacetHU"
   ]
  },
  {
   "cell_type": "code",
   "execution_count": null,
   "metadata": {},
   "outputs": [],
   "source": [
    "REGION = \"cz\"\n",
    "tesco_scrapper = Scraper(\n",
    "    api_key=\"TvOSZJHlEk0pjniDGQFAc9Q59WGAR4dA\",\n",
    "    region=REGION\n",
    ")"
   ]
  },
  {
   "cell_type": "code",
   "execution_count": null,
   "metadata": {},
   "outputs": [],
   "source": [
    "out = tesco_scrapper.fet_product(\n",
    "    code=130296010\n",
    ")\n",
    "\n",
    "DataHandler.extract_product(out)"
   ]
  },
  {
   "cell_type": "code",
   "execution_count": null,
   "metadata": {},
   "outputs": [],
   "source": [
    "taxonomy = tesco_scrapper.fetch_taxonomy()\n",
    "taxonomy"
   ]
  },
  {
   "cell_type": "code",
   "execution_count": null,
   "metadata": {},
   "outputs": [],
   "source": [
    "super_departments = DataHandler.extract_super_departments(taxonomy)\n",
    "super_departments"
   ]
  },
  {
   "cell_type": "code",
   "execution_count": null,
   "metadata": {},
   "outputs": [],
   "source": [
    "for facet in (\n",
    "    FacetCZ.NAPOJE\n",
    "):\n",
    "\n",
    "    print(\"-\"*150)\n",
    "    print(f\"--- {facet} ---\")\n",
    "\n",
    "    category_products = tesco_scrapper.fetch_facet_products(facet, size=100)\n",
    "    DataHandler.save_as_jsonlines(\n",
    "        data=category_products,\n",
    "        file_path=f\"../data/{REGION}/products.{facet.name}.jsonl\"\n",
    "    )"
   ]
  },
  {
   "cell_type": "code",
   "execution_count": null,
   "metadata": {},
   "outputs": [],
   "source": [
    "FacetCZ.NAPOJE.value"
   ]
  },
  {
   "cell_type": "code",
   "execution_count": null,
   "metadata": {},
   "outputs": [],
   "source": [
    "text = \"Radegast R\\u00e1zn\\u00e1 10 pivo v\\u00fd\\u010dapn\\u00e9 svetl\\u00e9 0,5 l\"\n",
    "\n",
    "# Method 1: Using encode/decode\n",
    "readable = text.encode(\"utf-8\").decode(\"unicode_escape\")\n",
    "print(readable)"
   ]
  },
  {
   "cell_type": "code",
   "execution_count": null,
   "metadata": {},
   "outputs": [],
   "source": [
    "# load\n",
    "\n",
    "import requests\n",
    "\n",
    "with open(\"./surquest/utils/scrappers/tesco/graphql.products.new.gql\", \"r\") as f:\n",
    "    graphql_products_new_gql = f.read()\n",
    "\n",
    "\n",
    "response = requests.post(\n",
    "    url=\"https://xapi.tesco.com/\",\n",
    "    headers={\n",
    "        \"accept\": \"application/json\",\n",
    "        \"accept-language\": \"en-GB\",\n",
    "        \"language\": \"en-GB\",\n",
    "        \"region\": \"UK\",\n",
    "        \"cache-control\": \"no-cache\",\n",
    "        \"content-type\": \"application/json\",\n",
    "        \"x-apikey\": \"TvOSZJHlEk0pjniDGQFAc9Q59WGAR4dA\",\n",
    "    },\n",
    "    json=[\n",
    "        {\n",
    "            \"operationName\": \"GetCategoryProducts\",\n",
    "            \"variables\": {\n",
    "                \"page\": 1,\n",
    "                \"includeRestrictions\": True,\n",
    "                \"includeVariations\": True,\n",
    "                \"count\": 10,\n",
    "                \"facet\": \"b;TiVDMyVBMXBvamU=\",\n",
    "                \"appliedFacetArgs\": [],\n",
    "            },\n",
    "            \"extensions\": {\"mfeName\": \"mfe-plp\"},\n",
    "            \"query\": graphql_products_new_gql,\n",
    "        }\n",
    "    ],\n",
    ")\n",
    "response.text"
   ]
  }
 ],
 "metadata": {
  "kernelspec": {
   "display_name": ".venv",
   "language": "python",
   "name": "python3"
  },
  "language_info": {
   "codemirror_mode": {
    "name": "ipython",
    "version": 3
   },
   "file_extension": ".py",
   "mimetype": "text/x-python",
   "name": "python",
   "nbconvert_exporter": "python",
   "pygments_lexer": "ipython3",
   "version": "3.12.7"
  }
 },
 "nbformat": 4,
 "nbformat_minor": 2
}
