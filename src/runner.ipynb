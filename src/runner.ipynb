{
 "cells": [
  {
   "cell_type": "code",
   "execution_count": 1,
   "metadata": {},
   "outputs": [],
   "source": [
    "from surquest.utils.scrappers.tesco import Scraper, DataHandler, FacetCZ, FacetUK, FacetSK, FacetHU"
   ]
  },
  {
   "cell_type": "code",
   "execution_count": 2,
   "metadata": {},
   "outputs": [],
   "source": [
    "REGION = \"hu\"\n",
    "tesco_scrapper = Scraper(\n",
    "    api_key=\"TvOSZJHlEk0pjniDGQFAc9Q59WGAR4dA\",\n",
    "    region=REGION\n",
    ")"
   ]
  },
  {
   "cell_type": "code",
   "execution_count": null,
   "metadata": {},
   "outputs": [],
   "source": [
    "taxonomy = tesco_scrapper.fetch_taxonomy()\n",
    "taxonomy"
   ]
  },
  {
   "cell_type": "code",
   "execution_count": null,
   "metadata": {},
   "outputs": [],
   "source": [
    "super_departments = DataHandler.extract_super_departments(taxonomy)\n",
    "super_departments"
   ]
  },
  {
   "cell_type": "code",
   "execution_count": null,
   "metadata": {},
   "outputs": [],
   "source": [
    "for facet in (\n",
    "    FacetHU.MOST_AJANLOTT,\n",
    "    FacetHU.ZOLDSSEG_GYUMOLCS,\n",
    "    FacetHU.TEJTERMEKEK_TOJAS,\n",
    "    FacetHU.PEKARU,\n",
    "    FacetHU.HUS_FELVAGOTT,\n",
    "    FacetHU.FAGYASZTOTT_ARUK,\n",
    "    FacetHU.ALAPVETO_ELELMISZEREK,\n",
    "    FacetHU.ITALOK,\n",
    "    FacetHU.SPECIALIS_TAPLALKOZAS,\n",
    "    FacetHU.HAZTARTAS,\n",
    "    FacetHU.DROGERIA,\n",
    "    FacetHU.BABA,\n",
    "    FacetHU.KISALLAT,\n",
    "    FacetHU.OTTHON_HOBBI,\n",
    "    FacetHU.UJDONSAGOK\n",
    "):\n",
    "\n",
    "    print(\"-\"*150)\n",
    "    print(f\"--- {facet} ---\")\n",
    "\n",
    "    category_products = tesco_scrapper.fetch_facet_products(facet)\n",
    "    DataHandler.save_as_jsonlines(\n",
    "        data=category_products,\n",
    "        file_path=f\"../data/{REGION}/products.{facet.name}.jsonl\"\n",
    "    )"
   ]
  },
  {
   "cell_type": "code",
   "execution_count": null,
   "metadata": {},
   "outputs": [],
   "source": [
    "text = \"Radegast R\\u00e1zn\\u00e1 10 pivo v\\u00fd\\u010dapn\\u00e9 svetl\\u00e9 0,5 l\"\n",
    "\n",
    "# Method 1: Using encode/decode\n",
    "readable = text.encode(\"utf-8\").decode(\"unicode_escape\")\n",
    "print(readable)"
   ]
  }
 ],
 "metadata": {
  "kernelspec": {
   "display_name": ".venv",
   "language": "python",
   "name": "python3"
  },
  "language_info": {
   "codemirror_mode": {
    "name": "ipython",
    "version": 3
   },
   "file_extension": ".py",
   "mimetype": "text/x-python",
   "name": "python",
   "nbconvert_exporter": "python",
   "pygments_lexer": "ipython3",
   "version": "3.12.7"
  }
 },
 "nbformat": 4,
 "nbformat_minor": 2
}
